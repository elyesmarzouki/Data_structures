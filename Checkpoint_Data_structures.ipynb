{
 "cells": [
  {
   "cell_type": "code",
   "execution_count": 1,
   "id": "e1c4444b",
   "metadata": {},
   "outputs": [],
   "source": [
    "def exercice1(L):\n",
    "    result =1\n",
    "    for i in L:\n",
    "        result*=i\n",
    "    return result"
   ]
  },
  {
   "cell_type": "code",
   "execution_count": 3,
   "id": "fb5f9d5d",
   "metadata": {},
   "outputs": [
    {
     "data": {
      "text/plain": [
       "36"
      ]
     },
     "execution_count": 3,
     "metadata": {},
     "output_type": "execute_result"
    }
   ],
   "source": [
    "exercice1([2,3,6])"
   ]
  },
  {
   "cell_type": "code",
   "execution_count": 35,
   "id": "ad18945a",
   "metadata": {},
   "outputs": [],
   "source": [
    "def exercice2(L):\n",
    "    for tuple in L:\n",
    "        L.sort(key=lambda tuple: tuple[-1])\n",
    "    return L"
   ]
  },
  {
   "cell_type": "code",
   "execution_count": 36,
   "id": "62070f1c",
   "metadata": {},
   "outputs": [
    {
     "data": {
      "text/plain": [
       "[(5, 1), (3, 2), (1, 3)]"
      ]
     },
     "execution_count": 36,
     "metadata": {},
     "output_type": "execute_result"
    }
   ],
   "source": [
    "exercice2([(1,3),(3,2),(5,1)])"
   ]
  },
  {
   "cell_type": "code",
   "execution_count": 21,
   "id": "05b28b33",
   "metadata": {},
   "outputs": [],
   "source": [
    "def exercice3(d1,d2):\n",
    "    result = d1\n",
    "    for key, value in d2.items():\n",
    "        if key in result:\n",
    "            result[key] += value\n",
    "        else:\n",
    "            result[key] = value\n",
    "    return result"
   ]
  },
  {
   "cell_type": "code",
   "execution_count": 22,
   "id": "31997c9f",
   "metadata": {},
   "outputs": [
    {
     "data": {
      "text/plain": [
       "{'a': 300, 'b': 500, 'c': 550, 'd': 500, 'g': 900}"
      ]
     },
     "execution_count": 22,
     "metadata": {},
     "output_type": "execute_result"
    }
   ],
   "source": [
    "exercice3({'a':200,'b':300,'c':400,'d':500},{'a':100,'b':200,'c':150,'g':900})"
   ]
  },
  {
   "cell_type": "code",
   "execution_count": 23,
   "id": "b2e63137",
   "metadata": {},
   "outputs": [],
   "source": [
    "def exercice4(n):\n",
    "    d = {}\n",
    "    for i in range(1, n+1):\n",
    "        d[i] = i*i\n",
    "    return d"
   ]
  },
  {
   "cell_type": "code",
   "execution_count": 24,
   "id": "61c2e0b6",
   "metadata": {},
   "outputs": [
    {
     "data": {
      "text/plain": [
       "{1: 1, 2: 4, 3: 9, 4: 16, 5: 25, 6: 36, 7: 49, 8: 64}"
      ]
     },
     "execution_count": 24,
     "metadata": {},
     "output_type": "execute_result"
    }
   ],
   "source": [
    "exercice4(8)"
   ]
  },
  {
   "cell_type": "code",
   "execution_count": 40,
   "id": "0479b4f2",
   "metadata": {},
   "outputs": [],
   "source": [
    "def exercice5(L):\n",
    "    for tuple in L:\n",
    "        L.sort(key=lambda tuple: float(tuple[-1]), reverse=True)\n",
    "    return L"
   ]
  },
  {
   "cell_type": "code",
   "execution_count": 41,
   "id": "de001100",
   "metadata": {},
   "outputs": [
    {
     "data": {
      "text/plain": [
       "[('item3', '24.5'), ('item2', '15.10'), ('item1', '12.20')]"
      ]
     },
     "execution_count": 41,
     "metadata": {},
     "output_type": "execute_result"
    }
   ],
   "source": [
    "exercice5([('item1', '12.20'), ('item2', '15.10'), ('item3', '24.5')])"
   ]
  },
  {
   "cell_type": "code",
   "execution_count": 46,
   "id": "f31bab19",
   "metadata": {},
   "outputs": [],
   "source": [
    "def exercice6():\n",
    "    myset ={1,2,3,4,5}\n",
    "    print(myset)\n",
    "    for i in myset:\n",
    "        print(i)\n",
    "    myset.add(6)\n",
    "    print(myset)\n",
    "    myset.remove(5)\n",
    "    print(myset)"
   ]
  },
  {
   "cell_type": "code",
   "execution_count": 47,
   "id": "da7ee3af",
   "metadata": {},
   "outputs": [
    {
     "name": "stdout",
     "output_type": "stream",
     "text": [
      "{1, 2, 3, 4, 5}\n",
      "1\n",
      "2\n",
      "3\n",
      "4\n",
      "5\n",
      "{1, 2, 3, 4, 5, 6}\n",
      "{1, 2, 3, 4, 6}\n"
     ]
    }
   ],
   "source": [
    "exercice6()"
   ]
  },
  {
   "cell_type": "code",
   "execution_count": null,
   "id": "87cb952d",
   "metadata": {},
   "outputs": [],
   "source": []
  }
 ],
 "metadata": {
  "kernelspec": {
   "display_name": "Python 3 (ipykernel)",
   "language": "python",
   "name": "python3"
  },
  "language_info": {
   "codemirror_mode": {
    "name": "ipython",
    "version": 3
   },
   "file_extension": ".py",
   "mimetype": "text/x-python",
   "name": "python",
   "nbconvert_exporter": "python",
   "pygments_lexer": "ipython3",
   "version": "3.9.13"
  }
 },
 "nbformat": 4,
 "nbformat_minor": 5
}
